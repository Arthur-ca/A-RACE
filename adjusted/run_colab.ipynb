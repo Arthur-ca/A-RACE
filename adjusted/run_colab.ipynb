{
 "cells": [
  {
   "cell_type": "code",
   "execution_count": null,
   "outputs": [],
   "source": [],
   "metadata": {
    "collapsed": false
   }
  },
  {
   "cell_type": "code",
   "execution_count": null,
   "outputs": [],
   "source": [
    "# mount google drive\n",
    "from google.colab import drive\n",
    "drive.mount('/content/drive')"
   ],
   "metadata": {
    "collapsed": false
   }
  },
  {
   "cell_type": "code",
   "execution_count": null,
   "outputs": [],
   "source": [
    "# clone repo\n",
    "!git clone url\n",
    "# upload dataset to your google drive or download in your run time\n",
    "\n",
    "# move dataset to the source code folder\n",
    "!mv src_path des_path\n",
    "\n",
    "# cd to the code folder\n",
    "!cd path\n",
    "\n",
    "# install dependencies\n",
    "!pip install -r requirements.txt\n",
    "\n",
    "# set env vir\n",
    "%env language=java\n",
    "\n",
    "# run\n",
    "!bash run_small.sh $language"
   ],
   "metadata": {
    "collapsed": false
   }
  }
 ],
 "metadata": {
  "kernelspec": {
   "display_name": "Python 3",
   "language": "python",
   "name": "python3"
  },
  "language_info": {
   "codemirror_mode": {
    "name": "ipython",
    "version": 2
   },
   "file_extension": ".py",
   "mimetype": "text/x-python",
   "name": "python",
   "nbconvert_exporter": "python",
   "pygments_lexer": "ipython2",
   "version": "2.7.6"
  }
 },
 "nbformat": 4,
 "nbformat_minor": 0
}
