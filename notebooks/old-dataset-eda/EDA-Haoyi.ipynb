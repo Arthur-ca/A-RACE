{
 "cells": [
  {
   "cell_type": "code",
   "execution_count": 10,
   "id": "bbb058f3",
   "metadata": {},
   "outputs": [],
   "source": [
    "from util import read_json_file\n",
    "import pandas as pd\n",
    "import numpy as np\n",
    "import matplotlib.pyplot as plt"
   ]
  },
  {
   "cell_type": "markdown",
   "id": "819f7e90",
   "metadata": {},
   "source": [
    "Use the read_json_file provided along with the RACE dataset to read the .jsonl file"
   ]
  },
  {
   "cell_type": "code",
   "execution_count": 5,
   "id": "08fc8f11",
   "metadata": {},
   "outputs": [],
   "source": [
    "data = read_json_file('../dataset/dataset/java/test.jsonl')"
   ]
  },
  {
   "cell_type": "code",
   "execution_count": 11,
   "id": "80390579",
   "metadata": {},
   "outputs": [],
   "source": [
    "df_test = pd.DataFrame.from_records(data)"
   ]
  },
  {
   "cell_type": "markdown",
   "id": "4ae32c4f",
   "metadata": {},
   "source": [
    "### EDA"
   ]
  },
  {
   "cell_type": "code",
   "execution_count": 12,
   "id": "221eb8c8",
   "metadata": {},
   "outputs": [
    {
     "data": {
      "text/html": [
       "<div>\n",
       "<style scoped>\n",
       "    .dataframe tbody tr th:only-of-type {\n",
       "        vertical-align: middle;\n",
       "    }\n",
       "\n",
       "    .dataframe tbody tr th {\n",
       "        vertical-align: top;\n",
       "    }\n",
       "\n",
       "    .dataframe thead th {\n",
       "        text-align: right;\n",
       "    }\n",
       "</style>\n",
       "<table border=\"1\" class=\"dataframe\">\n",
       "  <thead>\n",
       "    <tr style=\"text-align: right;\">\n",
       "      <th></th>\n",
       "      <th>diff_id</th>\n",
       "      <th>repo</th>\n",
       "      <th>sha</th>\n",
       "      <th>time</th>\n",
       "      <th>diff</th>\n",
       "      <th>msg</th>\n",
       "    </tr>\n",
       "  </thead>\n",
       "  <tbody>\n",
       "    <tr>\n",
       "      <th>0</th>\n",
       "      <td>0</td>\n",
       "      <td>spring-projects/spring-boot\\n</td>\n",
       "      <td>f8f4bd6c9531367b982f9ac35b0337782a8a6484\\n</td>\n",
       "      <td>2015-06-09T22:42:34Z\\n</td>\n",
       "      <td>mmm a / spring - boot / src / main / java / or...</td>\n",
       "      <td>Fix Javadoc warning\\n</td>\n",
       "    </tr>\n",
       "    <tr>\n",
       "      <th>1</th>\n",
       "      <td>3</td>\n",
       "      <td>PhilJay/MPAndroidChart\\n</td>\n",
       "      <td>cbf55db31430d68962e43dc9fc3847f882bee55d\\n</td>\n",
       "      <td>2015-12-29T09:21:09Z\\n</td>\n",
       "      <td>mmm a / MPChartLib / src / com / github / mike...</td>\n",
       "      <td>Merge pull request from mikemonteith / master\\n</td>\n",
       "    </tr>\n",
       "    <tr>\n",
       "      <th>2</th>\n",
       "      <td>4</td>\n",
       "      <td>apache/shardingsphere\\n</td>\n",
       "      <td>121d61ba1991a97cb48f718dbde7fd558b29e927\\n</td>\n",
       "      <td>2017-11-29T05:14:58Z\\n</td>\n",
       "      <td>mmm a / sharding - jdbc - orchestration / src ...</td>\n",
       "      <td>Refactor orchestration yaml configuration .\\n</td>\n",
       "    </tr>\n",
       "    <tr>\n",
       "      <th>3</th>\n",
       "      <td>8</td>\n",
       "      <td>NationalSecurityAgency/ghidra\\n</td>\n",
       "      <td>89b7f7ace1ce6d5bb933cdc916627159bd23f7d6\\n</td>\n",
       "      <td>2020-07-21T16:11:17Z\\n</td>\n",
       "      <td>mmm a / Ghidra / Features / GhidraServer / src...</td>\n",
       "      <td>GT - 360 corrected usage text\\n</td>\n",
       "    </tr>\n",
       "    <tr>\n",
       "      <th>4</th>\n",
       "      <td>10</td>\n",
       "      <td>TeamNewPipe/NewPipe\\n</td>\n",
       "      <td>4cfd9c322b8d0bdd05705397205213d5e39c1a6a\\n</td>\n",
       "      <td>2018-08-22T20:38:46Z\\n</td>\n",
       "      <td>mmm a / app / src / main / res / values - el /...</td>\n",
       "      <td>Translated using Weblate ( Greek )\\n</td>\n",
       "    </tr>\n",
       "  </tbody>\n",
       "</table>\n",
       "</div>"
      ],
      "text/plain": [
       "   diff_id                             repo  \\\n",
       "0        0    spring-projects/spring-boot\\n   \n",
       "1        3         PhilJay/MPAndroidChart\\n   \n",
       "2        4          apache/shardingsphere\\n   \n",
       "3        8  NationalSecurityAgency/ghidra\\n   \n",
       "4       10            TeamNewPipe/NewPipe\\n   \n",
       "\n",
       "                                          sha                    time  \\\n",
       "0  f8f4bd6c9531367b982f9ac35b0337782a8a6484\\n  2015-06-09T22:42:34Z\\n   \n",
       "1  cbf55db31430d68962e43dc9fc3847f882bee55d\\n  2015-12-29T09:21:09Z\\n   \n",
       "2  121d61ba1991a97cb48f718dbde7fd558b29e927\\n  2017-11-29T05:14:58Z\\n   \n",
       "3  89b7f7ace1ce6d5bb933cdc916627159bd23f7d6\\n  2020-07-21T16:11:17Z\\n   \n",
       "4  4cfd9c322b8d0bdd05705397205213d5e39c1a6a\\n  2018-08-22T20:38:46Z\\n   \n",
       "\n",
       "                                                diff  \\\n",
       "0  mmm a / spring - boot / src / main / java / or...   \n",
       "1  mmm a / MPChartLib / src / com / github / mike...   \n",
       "2  mmm a / sharding - jdbc - orchestration / src ...   \n",
       "3  mmm a / Ghidra / Features / GhidraServer / src...   \n",
       "4  mmm a / app / src / main / res / values - el /...   \n",
       "\n",
       "                                               msg  \n",
       "0                            Fix Javadoc warning\\n  \n",
       "1  Merge pull request from mikemonteith / master\\n  \n",
       "2    Refactor orchestration yaml configuration .\\n  \n",
       "3                  GT - 360 corrected usage text\\n  \n",
       "4             Translated using Weblate ( Greek )\\n  "
      ]
     },
     "execution_count": 12,
     "metadata": {},
     "output_type": "execute_result"
    }
   ],
   "source": [
    "df_test.head()"
   ]
  },
  {
   "cell_type": "code",
   "execution_count": 35,
   "id": "4d60b612",
   "metadata": {
    "scrolled": true
   },
   "outputs": [
    {
     "name": "stdout",
     "output_type": "stream",
     "text": [
      "<class 'pandas.core.frame.DataFrame'>\n",
      "RangeIndex: 20159 entries, 0 to 20158\n",
      "Data columns (total 6 columns):\n",
      " #   Column   Non-Null Count  Dtype \n",
      "---  ------   --------------  ----- \n",
      " 0   diff_id  20159 non-null  int64 \n",
      " 1   repo     20159 non-null  object\n",
      " 2   sha      20159 non-null  object\n",
      " 3   time     20159 non-null  object\n",
      " 4   diff     20159 non-null  object\n",
      " 5   msg      20159 non-null  object\n",
      "dtypes: int64(1), object(5)\n",
      "memory usage: 945.1+ KB\n"
     ]
    }
   ],
   "source": [
    "df_test.info()"
   ]
  },
  {
   "cell_type": "code",
   "execution_count": 14,
   "id": "437100ca",
   "metadata": {},
   "outputs": [
    {
     "data": {
      "text/plain": [
       "20159"
      ]
     },
     "execution_count": 14,
     "metadata": {},
     "output_type": "execute_result"
    }
   ],
   "source": [
    "len(df_test)"
   ]
  },
  {
   "cell_type": "markdown",
   "id": "eb507f8f",
   "metadata": {},
   "source": [
    "### Check if there is duplicated repo\n",
    "\n",
    "There are 93 repos in the java test set. The commit messages are all from these repositories"
   ]
  },
  {
   "cell_type": "code",
   "execution_count": 50,
   "id": "af216f26",
   "metadata": {},
   "outputs": [
    {
     "data": {
      "text/plain": [
       "93"
      ]
     },
     "execution_count": 50,
     "metadata": {},
     "output_type": "execute_result"
    }
   ],
   "source": [
    "len(df_test['repo'].unique())"
   ]
  },
  {
   "cell_type": "code",
   "execution_count": 53,
   "id": "14cb2ca3",
   "metadata": {},
   "outputs": [
    {
     "data": {
      "text/plain": [
       "array(['spring-projects/spring-boot\\n', 'PhilJay/MPAndroidChart\\n',\n",
       "       'apache/shardingsphere\\n', 'NationalSecurityAgency/ghidra\\n',\n",
       "       'TeamNewPipe/NewPipe\\n', 'bazelbuild/bazel\\n',\n",
       "       'eugenp/tutorials\\n', 'Tencent/QMUI_Android\\n',\n",
       "       'SeleniumHQ/selenium\\n',\n",
       "       'EnterpriseQualityCoding/FizzBuzzEnterpriseEdition\\n'],\n",
       "      dtype=object)"
      ]
     },
     "execution_count": 53,
     "metadata": {},
     "output_type": "execute_result"
    }
   ],
   "source": [
    "# show some of the repos\n",
    "df_test['repo'].unique()[:10]"
   ]
  },
  {
   "cell_type": "markdown",
   "id": "477a9091",
   "metadata": {},
   "source": [
    "### Check for missing values\n",
    "\n",
    "No missing value found, no need to preprocess"
   ]
  },
  {
   "cell_type": "code",
   "execution_count": 47,
   "id": "f795ad49",
   "metadata": {},
   "outputs": [
    {
     "data": {
      "text/plain": [
       "diff_id    0\n",
       "repo       0\n",
       "sha        0\n",
       "time       0\n",
       "diff       0\n",
       "msg        0\n",
       "dtype: int64"
      ]
     },
     "execution_count": 47,
     "metadata": {},
     "output_type": "execute_result"
    }
   ],
   "source": [
    "df_test.isnull().sum()"
   ]
  }
 ],
 "metadata": {
  "kernelspec": {
   "display_name": "Python 3 (ipykernel)",
   "language": "python",
   "name": "python3"
  },
  "language_info": {
   "codemirror_mode": {
    "name": "ipython",
    "version": 3
   },
   "file_extension": ".py",
   "mimetype": "text/x-python",
   "name": "python",
   "nbconvert_exporter": "python",
   "pygments_lexer": "ipython3",
   "version": "3.9.13"
  }
 },
 "nbformat": 4,
 "nbformat_minor": 5
}
